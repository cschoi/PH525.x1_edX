{
 "cells": [
  {
   "cell_type": "markdown",
   "metadata": {},
   "source": [
    "## R BASICS\n",
    "\n",
    "Now that we are set up with R and RStudio, we want to cover some of the very basics of R data manipulation, though we will not have comprehensive coverage of the R syntax. Additional references for R can be found in Precourse > Resources, or in the Syllabus link on the top bar.\n",
    "\n",
    "## GETTING TABLES INTO R\n",
    "\n",
    "The beginning of a \"real data analysis\" usually starts with getting a table of data loaded into R. The original data might be stored in an Microsoft Excel spreadsheet. There is luckily an easy way to export data from Excel such that it can be read by other software. Go to File > Save As..., and then choose Format: Comma Separated Values (csv). Excel will give a warning then that only a single sheet of data will be exported into the CSV file.\n",
    "\n",
    "## MAMMAL SLEEP DATA\n",
    "\n",
    "Let's start here with a CSV file of mammalian sleep data. This data is already bundled up as msleep [1] in the ggplot2 package, but here we want to first show how to read in the data from CSV format.\n",
    "\n",
    "[1] Savage and West. \"A quantitative, theoretical framework for understanding mammalian sleep.\" PNAS, 2007.\n",
    "\n",
    "Download the CSV file from this location:\n",
    "\n",
    "https://raw.githubusercontent.com/genomicsclass/dagdata/master/inst/extdata/msleep_ggplot2.csv\n",
    "\n",
    "Type this URL in your browser or click the link, and then click Save As, and specify your local directory. Make sure that no extra endings, such as .txt are added to the file.\n",
    "\n",
    "We can read CSV files into R using the function read.csv(). As with most R functions, we put a variable name and an equal sign in front of the function to save the table as the variable 'tab'. (You can also use the equal sign instead of the  \"arrow\" <- to save or \"assign\" the table; they are equivalent in almost all situations.).\n",
    "\n",
    "For the line of code below to work, your working directory needs to be the directory in which you saved the file \"msleep_ggplot2.csv\". There are several ways of ensuring this. One is to create a Project as we did on our videos and save the file while working on that Project. The open the Project in RStudio. Another is to use the getwd() and setwd() functions to determine and set the working directory. Yet another is to use RStuido's menu bar: click on \"Sessions\", then \"Set Working Directory\". Once your working directory is the directory containing the file, then you can read it like with the line below. Note that yet another way to do read the file that does not depend on working directories  is to use the full path of the file.\n",
    "\n",
    "tab = read.csv(\"msleep_ggplot2.csv\")\n",
    "\n",
    "The variable tab has the class data.frame, which is R's name for a table of data.\n",
    "\n",
    "class(tab)\n",
    "\n",
    "Two useful things to know are: what does the top of the dataframe look like, and what are the dimensions of the dataframe?\n",
    "\n",
    "head(tab)\n",
    "dim(tab)\n",
    "\n",
    "Type ?read.csv, and read the description of the arguments there. Note that the header was assumed to exist because of the argument header=TRUE. If the CSV file did not have a header, the first line of data would be taken as the header. The fix for this would be to specify the argument header=FALSE."
   ]
  },
  {
   "cell_type": "code",
   "execution_count": 2,
   "metadata": {
    "collapsed": false
   },
   "outputs": [
    {
     "data": {
      "text/plain": [
       "[1] \"/Users/neurochoi/Study/R/PH525.1x/Week1\""
      ]
     },
     "execution_count": 2,
     "metadata": {},
     "output_type": "execute_result"
    }
   ],
   "source": [
    "getwd()"
   ]
  },
  {
   "cell_type": "code",
   "execution_count": 4,
   "metadata": {
    "collapsed": false
   },
   "outputs": [],
   "source": [
    "library(downloader)\n",
    "url <- \"https://raw.githubusercontent.com/genomicsclass/dagdata/master/inst/extdata/msleep_ggplot2.csv\"\n",
    "filename = \"msleep_ggplot2.csv\"\n",
    "if (!file.exists(filename)) download(url,destfile=filename)\n",
    "population = read.csv(filename)    "
   ]
  },
  {
   "cell_type": "code",
   "execution_count": 5,
   "metadata": {
    "collapsed": true
   },
   "outputs": [],
   "source": [
    "tab <- read.csv(\"msleep_ggplot2.csv\")"
   ]
  },
  {
   "cell_type": "code",
   "execution_count": 6,
   "metadata": {
    "collapsed": false
   },
   "outputs": [
    {
     "data": {
      "text/plain": [
       "[1] \"data.frame\""
      ]
     },
     "execution_count": 6,
     "metadata": {},
     "output_type": "execute_result"
    }
   ],
   "source": [
    "class(tab)"
   ]
  },
  {
   "cell_type": "code",
   "execution_count": 7,
   "metadata": {
    "collapsed": false
   },
   "outputs": [
    {
     "data": {
      "text/plain": [
       "                        name      genus  vore        order conservation\n",
       "1                    Cheetah   Acinonyx carni    Carnivora           lc\n",
       "2                 Owl monkey      Aotus  omni     Primates         <NA>\n",
       "3            Mountain beaver Aplodontia herbi     Rodentia           nt\n",
       "4 Greater short-tailed shrew    Blarina  omni Soricomorpha           lc\n",
       "5                        Cow        Bos herbi Artiodactyla domesticated\n",
       "6           Three-toed sloth   Bradypus herbi       Pilosa         <NA>\n",
       "  sleep_total sleep_rem sleep_cycle awake brainwt  bodywt\n",
       "1        12.1        NA          NA  11.9      NA  50.000\n",
       "2        17.0       1.8          NA   7.0 0.01550   0.480\n",
       "3        14.4       2.4          NA   9.6      NA   1.350\n",
       "4        14.9       2.3   0.1333333   9.1 0.00029   0.019\n",
       "5         4.0       0.7   0.6666667  20.0 0.42300 600.000\n",
       "6        14.4       2.2   0.7666667   9.6      NA   3.850"
      ]
     },
     "execution_count": 7,
     "metadata": {},
     "output_type": "execute_result"
    }
   ],
   "source": [
    "head(tab)"
   ]
  },
  {
   "cell_type": "code",
   "execution_count": 8,
   "metadata": {
    "collapsed": false
   },
   "outputs": [
    {
     "data": {
      "text/plain": [
       "[1] 83 11"
      ]
     },
     "execution_count": 8,
     "metadata": {},
     "output_type": "execute_result"
    }
   ],
   "source": [
    "dim(tab)"
   ]
  },
  {
   "cell_type": "markdown",
   "metadata": {},
   "source": [
    "## ACCESSING COLUMNS  (1/1 point)\n",
    "\n",
    "We'll start really simple, but the next problems will be more challenging.\n",
    "\n",
    "We can get a column of data from a dataframe by typing the name of the dataframe, then the $ \n",
    "symbol, then the name of the column with no spaces in between. \n",
    "\n",
    "First ask what the column names are using colnames(tab), and then extract one of the columns. The column will be returned as a vector of numbers. Try using autocompletion on the column name using the TAB key on your keyboard. \n",
    "\n",
    "Type the name of the dataframe, then the $ symbol, then the first few letters of the column, then hit TAB. This will autocomplete the name until the end of the name, or until the next character which would determine which column you are referring to. In RStudio, a popup window will show you the possible column names that match the first few letters you wrote.\n",
    "\n",
    "### How many hours of total sleep are there for the first animal in the table?"
   ]
  },
  {
   "cell_type": "code",
   "execution_count": 10,
   "metadata": {
    "collapsed": false
   },
   "outputs": [
    {
     "data": {
      "text/plain": [
       "[1] 12.1"
      ]
     },
     "execution_count": 10,
     "metadata": {},
     "output_type": "execute_result"
    }
   ],
   "source": [
    "tab$sleep_total[1]"
   ]
  },
  {
   "cell_type": "markdown",
   "metadata": {},
   "source": [
    "## CREATE AND MANIPULATE VECTORS WITH C()\n",
    "\n",
    "Vectors can be combined using the c function. For example, we can add a final number, 1000, to the sleep totals:\n",
    "\n",
    "c(tab$sleep_total, 1000)"
   ]
  },
  {
   "cell_type": "code",
   "execution_count": 11,
   "metadata": {
    "collapsed": false
   },
   "outputs": [
    {
     "data": {
      "text/plain": [
       " [1]   12.1   17.0   14.4   14.9    4.0   14.4    8.7    7.0   10.1    3.0\n",
       "[11]    5.3    9.4   10.0   12.5   10.3    8.3    9.1   17.4    5.3   18.0\n",
       "[21]    3.9   19.7    2.9    3.1   10.1   10.9   14.9   12.5    9.8    1.9\n",
       "[31]    2.7    6.2    6.3    8.0    9.5    3.3   19.4   10.1   14.2   14.3\n",
       "[41]   12.8   12.5   19.9   14.6   11.0    7.7   14.5    8.4    3.8    9.7\n",
       "[51]   15.8   10.4   13.5    9.4   10.3   11.0   11.5   13.7    3.5    5.6\n",
       "[61]   11.1   18.1    5.4   13.0    8.7    9.6    8.4   11.3   10.6   16.6\n",
       "[71]   13.8   15.9   12.8    9.1    8.6   15.8    4.4   15.6    8.9    5.2\n",
       "[81]    6.3   12.5    9.8 1000.0"
      ]
     },
     "execution_count": 11,
     "metadata": {},
     "output_type": "execute_result"
    }
   ],
   "source": [
    "c(tab$sleep_total, 1000)"
   ]
  },
  {
   "cell_type": "markdown",
   "metadata": {},
   "source": [
    "### PLOT THE DATA\n",
    "\n",
    "Let's go ahead and make a plot of the brain weight and the total sleep, to see what the data look like:\n",
    "\n",
    "\n",
    "plot(tab $brainwt, tab$sleep_total)\n",
    "\n",
    "\n",
    "Once more, with a logarithmic scale x-axis:\n",
    "\n",
    "\n",
    "plot(tab$brainwt, tab$sleep_total, log=\"x\")"
   ]
  },
  {
   "cell_type": "code",
   "execution_count": 13,
   "metadata": {
    "collapsed": false
   },
   "outputs": [
    {
     "name": "stderr",
     "output_type": "stream",
     "text": [
      "Loading required package: RColorBrewer\n"
     ]
    },
    {
     "data": {
      "image/png": "[encoded data removed]"
     },
     "metadata": {},
     "output_type": "display_data"
    }
   ],
   "source": [
    "library(rafalib)\n",
    "mypar2(1, 2)\n",
    "plot(tab$brainwt, tab$sleep_total)\n",
    "plot(tab$brainwt, tab$sleep_total, log=\"x\")"
   ]
  },
  {
   "cell_type": "markdown",
   "metadata": {},
   "source": [
    "### SUMMARY()  (1/1 point)\n",
    "\n",
    "The summary function gives the summary statistics of a set of values.\n",
    "\n",
    "#### What is the 3rd quartile of the total sleep of all the animals?"
   ]
  },
  {
   "cell_type": "code",
   "execution_count": 15,
   "metadata": {
    "collapsed": false
   },
   "outputs": [
    {
     "data": {
      "text/plain": [
       "   0%   25%   50%   75%  100% \n",
       " 1.90  7.85 10.10 13.75 19.90 "
      ]
     },
     "execution_count": 15,
     "metadata": {},
     "output_type": "execute_result"
    }
   ],
   "source": [
    "quantile(tab$sleep_total)"
   ]
  },
  {
   "cell_type": "code",
   "execution_count": 16,
   "metadata": {
    "collapsed": false
   },
   "outputs": [
    {
     "data": {
      "text/plain": [
       "   Min. 1st Qu.  Median    Mean 3rd Qu.    Max. \n",
       "   1.90    7.85   10.10   10.43   13.75   19.90 "
      ]
     },
     "execution_count": 16,
     "metadata": {},
     "output_type": "execute_result"
    }
   ],
   "source": [
    "summary(tab$sleep_total)"
   ]
  },
  {
   "cell_type": "markdown",
   "metadata": {},
   "source": [
    "### SUBSETTING/INDEXING  (1/1 point)\n",
    "\n",
    "There are a number of ways to subset a dataframe or a vector. We can use numbers to indicate the rows we want, or a logical vector which is as long as the number of rows of the dataframe, or as long as the vector. We use the square brackets [] and inside give the rows and columns we want to index, separated by a comma. If we leave out the number before or after the comma, it means, give us all the rows or all the columns.\n",
    "\n",
    "Subsetting a dataframe to the first two rows:\n",
    "\n",
    "tab[ c(1,2), ]\n",
    "\n",
    "The rows where the total sleep is greater than 18 hours:\n",
    "\n",
    "tab[ tab$sleep_total > 18, ]\n",
    "\n",
    "Subsetting a vector looks very similar, but we just remove the comma (because there are no columns now). The first two elements can be subset like so:\n",
    "\n",
    "tab$sleep_total[ c(1,2) ]\n",
    "\n",
    "#### What is the average total sleep, using the function mean() and vector subsetting, for the animals with total sleep greater than 18 hours?"
   ]
  },
  {
   "cell_type": "code",
   "execution_count": 17,
   "metadata": {
    "collapsed": false
   },
   "outputs": [
    {
     "data": {
      "text/plain": [
       "        name    genus  vore     order conservation sleep_total sleep_rem\n",
       "1    Cheetah Acinonyx carni Carnivora           lc        12.1        NA\n",
       "2 Owl monkey    Aotus  omni  Primates         <NA>        17.0       1.8\n",
       "  sleep_cycle awake brainwt bodywt\n",
       "1          NA  11.9      NA  50.00\n",
       "2          NA   7.0  0.0155   0.48"
      ]
     },
     "execution_count": 17,
     "metadata": {},
     "output_type": "execute_result"
    }
   ],
   "source": [
    "tab[c(1, 2), ] ## 1, 2행 추출"
   ]
  },
  {
   "cell_type": "code",
   "execution_count": 18,
   "metadata": {
    "collapsed": false
   },
   "outputs": [
    {
     "data": {
      "text/plain": [
       "                   name      genus    vore           order conservation\n",
       "22        Big brown bat  Eptesicus insecti      Chiroptera           lc\n",
       "37 Thick-tailed opposum Lutreolina   carni Didelphimorphia           lc\n",
       "43     Little brown bat     Myotis insecti      Chiroptera         <NA>\n",
       "62      Giant armadillo Priodontes insecti       Cingulata           en\n",
       "   sleep_total sleep_rem sleep_cycle awake brainwt bodywt\n",
       "22        19.7       3.9   0.1166667   4.3 0.00030  0.023\n",
       "37        19.4       6.6          NA   4.6      NA  0.370\n",
       "43        19.9       2.0   0.2000000   4.1 0.00025  0.010\n",
       "62        18.1       6.1          NA   5.9 0.08100 60.000"
      ]
     },
     "execution_count": 18,
     "metadata": {},
     "output_type": "execute_result"
    }
   ],
   "source": [
    "tab[tab$sleep_total>18, ] ## sleep_total 중 18 이상인 것 고르기"
   ]
  },
  {
   "cell_type": "code",
   "execution_count": 19,
   "metadata": {
    "collapsed": false
   },
   "outputs": [
    {
     "data": {
      "text/plain": [
       "[1] 12.1 17.0"
      ]
     },
     "execution_count": 19,
     "metadata": {},
     "output_type": "execute_result"
    }
   ],
   "source": [
    "tab$sleep_total[c(1, 2)] ## sleep_total 항에서 1, 2행 값 추출"
   ]
  },
  {
   "cell_type": "code",
   "execution_count": 28,
   "metadata": {
    "collapsed": false
   },
   "outputs": [
    {
     "data": {
      "text/plain": [
       "[1] 19.275"
      ]
     },
     "execution_count": 28,
     "metadata": {},
     "output_type": "execute_result"
    }
   ],
   "source": [
    "mean(tab[tab$sleep_total > 18,]$sleep_total)"
   ]
  },
  {
   "cell_type": "markdown",
   "metadata": {},
   "source": [
    "## WHICH()\n",
    "\n",
    "The function which() gives us the numeric index that satisfies a logical question:\n",
    "\n",
    "which(tab$sleep_total > 18)\n",
    "\n",
    "This can be useful in certain circumstances when we want a number from a logical. For example, if we want to get the first value where the total sleep was more than 18 hours. This combines three operations: which() gives the number of values which have total sleep more than 18 hours, then on the right side, we index this vector with [1] to get the first number. Then we index the original vector with that number. Take a while to look over this and take the command apart to understand what is going on:\n",
    "\n",
    "tab$sleep_total[ which(tab$sleep_total > 18)[1] ]\n"
   ]
  },
  {
   "cell_type": "markdown",
   "metadata": {},
   "source": [
    "### WHICH()  (1/1 point)\n",
    "\n",
    "We can also combine two logical vectors and use which to see the rows that satisfy both criteria. Logical vectors are combined using the ampersand symbol: &\n",
    "\n",
    "#### What is the row number of the animal which has more than 18 hours of total sleep and less than 3 hours of REM sleep?"
   ]
  },
  {
   "cell_type": "code",
   "execution_count": 29,
   "metadata": {
    "collapsed": false
   },
   "outputs": [
    {
     "data": {
      "text/plain": [
       "[1] 22 37 43 62"
      ]
     },
     "execution_count": 29,
     "metadata": {},
     "output_type": "execute_result"
    }
   ],
   "source": [
    "which(tab$sleep_total > 18)"
   ]
  },
  {
   "cell_type": "code",
   "execution_count": 30,
   "metadata": {
    "collapsed": false
   },
   "outputs": [
    {
     "data": {
      "text/plain": [
       "[1] 19.7 19.4 19.9 18.1"
      ]
     },
     "execution_count": 30,
     "metadata": {},
     "output_type": "execute_result"
    }
   ],
   "source": [
    "tab$sleep_total[which(tab$sleep_total > 18)]"
   ]
  },
  {
   "cell_type": "code",
   "execution_count": 31,
   "metadata": {
    "collapsed": false
   },
   "outputs": [
    {
     "data": {
      "text/plain": [
       "[1] 19.7"
      ]
     },
     "execution_count": 31,
     "metadata": {},
     "output_type": "execute_result"
    }
   ],
   "source": [
    "tab$sleep_total[which(tab$sleep_total > 18)[1]]"
   ]
  },
  {
   "cell_type": "code",
   "execution_count": 32,
   "metadata": {
    "collapsed": false
   },
   "outputs": [
    {
     "data": {
      "text/plain": [
       "[1] 19.9"
      ]
     },
     "execution_count": 32,
     "metadata": {},
     "output_type": "execute_result"
    }
   ],
   "source": [
    "tab$sleep_total[which(tab$sleep_total > 18)[3]]"
   ]
  },
  {
   "cell_type": "code",
   "execution_count": 34,
   "metadata": {
    "collapsed": false
   },
   "outputs": [
    {
     "data": {
      "text/plain": [
       "[1] 43"
      ]
     },
     "execution_count": 34,
     "metadata": {},
     "output_type": "execute_result"
    }
   ],
   "source": [
    "which(tab$sleep_total > 18 & tab$sleep_rem < 3)"
   ]
  },
  {
   "cell_type": "markdown",
   "metadata": {},
   "source": [
    "## SORT()\n",
    "\n",
    "There are three functions which are very important to understand for basic R manipulation of vectors. Trying them out on simple examples will help you understand what each does. sort() is the easiest, so let's start with this one. sort() simply gives back the list of numeric values after sorting them:\n",
    "\n",
    "sort(tab$sleep_total)"
   ]
  },
  {
   "cell_type": "code",
   "execution_count": 35,
   "metadata": {
    "collapsed": false
   },
   "outputs": [
    {
     "data": {
      "text/plain": [
       " [1]  1.9  2.7  2.9  3.0  3.1  3.3  3.5  3.8  3.9  4.0  4.4  5.2  5.3  5.3  5.4\n",
       "[16]  5.6  6.2  6.3  6.3  7.0  7.7  8.0  8.3  8.4  8.4  8.6  8.7  8.7  8.9  9.1\n",
       "[31]  9.1  9.4  9.4  9.5  9.6  9.7  9.8  9.8 10.0 10.1 10.1 10.1 10.3 10.3 10.4\n",
       "[46] 10.6 10.9 11.0 11.0 11.1 11.3 11.5 12.1 12.5 12.5 12.5 12.5 12.8 12.8 13.0\n",
       "[61] 13.5 13.7 13.8 14.2 14.3 14.4 14.4 14.5 14.6 14.9 14.9 15.6 15.8 15.8 15.9\n",
       "[76] 16.6 17.0 17.4 18.0 18.1 19.4 19.7 19.9"
      ]
     },
     "execution_count": 35,
     "metadata": {},
     "output_type": "execute_result"
    }
   ],
   "source": [
    "sort(tab$sleep_total)"
   ]
  },
  {
   "cell_type": "code",
   "execution_count": 36,
   "metadata": {
    "collapsed": false
   },
   "outputs": [
    {
     "data": {
      "text/plain": [
       " [1] 12.1 17.0 14.4 14.9  4.0 14.4  8.7  7.0 10.1  3.0  5.3  9.4 10.0 12.5 10.3\n",
       "[16]  8.3  9.1 17.4  5.3 18.0  3.9 19.7  2.9  3.1 10.1 10.9 14.9 12.5  9.8  1.9\n",
       "[31]  2.7  6.2  6.3  8.0  9.5  3.3 19.4 10.1 14.2 14.3 12.8 12.5 19.9 14.6 11.0\n",
       "[46]  7.7 14.5  8.4  3.8  9.7 15.8 10.4 13.5  9.4 10.3 11.0 11.5 13.7  3.5  5.6\n",
       "[61] 11.1 18.1  5.4 13.0  8.7  9.6  8.4 11.3 10.6 16.6 13.8 15.9 12.8  9.1  8.6\n",
       "[76] 15.8  4.4 15.6  8.9  5.2  6.3 12.5  9.8"
      ]
     },
     "execution_count": 36,
     "metadata": {},
     "output_type": "execute_result"
    }
   ],
   "source": [
    "tab$sleep_total"
   ]
  },
  {
   "cell_type": "markdown",
   "metadata": {},
   "source": [
    "## ORDER()  (1/1 point)\n",
    "\n",
    "order() is a bit more complex. order() gives back the index, in the original vector, of the smallest value, then the next smallest, etc. So the last number given back by order() is the index of the largest value in the original vector.\n",
    "\n",
    "#### What is the index of the animal (so the row number) with the least total sleep?"
   ]
  },
  {
   "cell_type": "code",
   "execution_count": 37,
   "metadata": {
    "collapsed": false
   },
   "outputs": [
    {
     "data": {
      "text/plain": [
       " [1] 30 31 23 10 24 36 59 49 21  5 77 80 11 19 63 60 32 33 81  8 46 34 16 48 67\n",
       "[26] 75  7 65 79 17 74 12 54 35 66 50 29 83 13  9 25 38 15 55 52 69 26 45 56 61\n",
       "[51] 68 57  1 14 28 42 82 41 73 64 53 58 71 39 40  3  6 47 44  4 27 78 51 76 72\n",
       "[76] 70  2 18 20 62 37 22 43"
      ]
     },
     "execution_count": 37,
     "metadata": {},
     "output_type": "execute_result"
    }
   ],
   "source": [
    "order(tab$sleep_total)"
   ]
  },
  {
   "cell_type": "code",
   "execution_count": 43,
   "metadata": {
    "collapsed": false
   },
   "outputs": [
    {
     "data": {
      "text/plain": [
       " [1] 12.1 17.0 14.4 14.9  4.0 14.4  8.7  7.0 10.1  3.0  5.3  9.4 10.0 12.5 10.3\n",
       "[16]  8.3  9.1 17.4  5.3 18.0  3.9 19.7  2.9  3.1 10.1 10.9 14.9 12.5  9.8  1.9\n",
       "[31]  2.7  6.2  6.3  8.0  9.5  3.3 19.4 10.1 14.2 14.3 12.8 12.5 19.9 14.6 11.0\n",
       "[46]  7.7 14.5  8.4  3.8  9.7 15.8 10.4 13.5  9.4 10.3 11.0 11.5 13.7  3.5  5.6\n",
       "[61] 11.1 18.1  5.4 13.0  8.7  9.6  8.4 11.3 10.6 16.6 13.8 15.9 12.8  9.1  8.6\n",
       "[76] 15.8  4.4 15.6  8.9  5.2  6.3 12.5  9.8"
      ]
     },
     "execution_count": 43,
     "metadata": {},
     "output_type": "execute_result"
    }
   ],
   "source": [
    "tab$sleep_total"
   ]
  },
  {
   "cell_type": "markdown",
   "metadata": {},
   "source": [
    "## RANK()  (1/1 point)\n",
    "\n",
    "Finally, let's try rank(). This function takes in numeric values, and turns the smallest value into 1, the second smallest value into 2, etc., and returns the ranks in the same order as the input vector. Ties are resolved by giving the numbers the average of their ranks.\n",
    "\n",
    "rank(c(1,2,2,3))\n",
    "\n",
    "Let's apply rank() to the total sleep column.\n",
    "\n",
    "#### What's the rank of the animal in the first row of the table in terms of total sleep?"
   ]
  },
  {
   "cell_type": "code",
   "execution_count": 44,
   "metadata": {
    "collapsed": false
   },
   "outputs": [
    {
     "data": {
      "text/plain": [
       "[1] 1.0 2.5 2.5 4.0"
      ]
     },
     "execution_count": 44,
     "metadata": {},
     "output_type": "execute_result"
    }
   ],
   "source": [
    "rank(c(1,2,2,3))"
   ]
  },
  {
   "cell_type": "code",
   "execution_count": 47,
   "metadata": {
    "collapsed": false
   },
   "outputs": [
    {
     "data": {
      "text/plain": [
       "[1] 53"
      ]
     },
     "execution_count": 47,
     "metadata": {},
     "output_type": "execute_result"
    }
   ],
   "source": [
    "rank(tab$sleep_total)[1]"
   ]
  },
  {
   "cell_type": "markdown",
   "metadata": {},
   "source": [
    "## MATCH()  (1/1 point)\n",
    "\n",
    "The match() function in R is useful to find the index of the first match of a vector in a second vector. We can give match() a number of queries at once:\n",
    "\n",
    "match(c(\"Cow\",\"Owl monkey\",\"Cheetah\"), tab$name)\n",
    "\n",
    "This can then be used to rearrange an object. For example, we can rearrange the tab dataframe to an order we specify. Let's reorder the tab dataframe to give the rows for Cow, Owl monkey and Cheetah, using the vector returned by match() as a row index:\n",
    "\n",
    "idx = match(c(\"Cow\",\"Owl monkey\",\"Cheetah\"), tab$name)\n",
    "\n",
    "tab[idx,]\n",
    "\n",
    "#### What is the row number for \"Cotton rat\" in the tab dataframe?"
   ]
  },
  {
   "cell_type": "code",
   "execution_count": 48,
   "metadata": {
    "collapsed": false
   },
   "outputs": [
    {
     "data": {
      "text/plain": [
       "[1] 5 2 1"
      ]
     },
     "execution_count": 48,
     "metadata": {},
     "output_type": "execute_result"
    }
   ],
   "source": [
    "match(c(\"Cow\", \"Owl monkey\", \"Cheetah\"), tab$name)"
   ]
  },
  {
   "cell_type": "code",
   "execution_count": 49,
   "metadata": {
    "collapsed": false
   },
   "outputs": [
    {
     "data": {
      "text/plain": [
       " [1] Cheetah                        Owl monkey                    \n",
       " [3] Mountain beaver                Greater short-tailed shrew    \n",
       " [5] Cow                            Three-toed sloth              \n",
       " [7] Northern fur seal              Vesper mouse                  \n",
       " [9] Dog                            Roe deer                      \n",
       "[11] Goat                           Guinea pig                    \n",
       "[13] Grivet                         Chinchilla                    \n",
       "[15] Star-nosed mole                African giant pouched rat     \n",
       "[17] Lesser short-tailed shrew      Long-nosed armadillo          \n",
       "[19] Tree hyrax                     North American Opossum        \n",
       "[21] Asian elephant                 Big brown bat                 \n",
       "[23] Horse                          Donkey                        \n",
       "[25] European hedgehog              Patas monkey                  \n",
       "[27] Western american chipmunk      Domestic cat                  \n",
       "[29] Galago                         Giraffe                       \n",
       "[31] Pilot whale                    Gray seal                     \n",
       "[33] Gray hyrax                     Human                         \n",
       "[35] Mongoose lemur                 African elephant              \n",
       "[37] Thick-tailed opposum           Macaque                       \n",
       "[39] Mongolian gerbil               Golden hamster                \n",
       "[41] Vole                           House mouse                   \n",
       "[43] Little brown bat               Round-tailed muskrat          \n",
       "[45] Slow loris                     Degu                          \n",
       "[47] Northern grasshopper mouse     Rabbit                        \n",
       "[49] Sheep                          Chimpanzee                    \n",
       "[51] Tiger                          Jaguar                        \n",
       "[53] Lion                           Baboon                        \n",
       "[55] Desert hedgehog                Potto                         \n",
       "[57] Deer mouse                     Phalanger                     \n",
       "[59] Caspian seal                   Common porpoise               \n",
       "[61] Potoroo                        Giant armadillo               \n",
       "[63] Rock hyrax                     Laboratory rat                \n",
       "[65] African striped mouse          Squirrel monkey               \n",
       "[67] Eastern american mole          Cotton rat                    \n",
       "[69] Mole rat                       Arctic ground squirrel        \n",
       "[71] Thirteen-lined ground squirrel Golden-mantled ground squirrel\n",
       "[73] Musk shrew                     Pig                           \n",
       "[75] Short-nosed echidna            Eastern american chipmunk     \n",
       "[77] Brazilian tapir                Tenrec                        \n",
       "[79] Tree shrew                     Bottle-nosed dolphin          \n",
       "[81] Genet                          Arctic fox                    \n",
       "[83] Red fox                       \n",
       "83 Levels: African elephant African giant pouched rat ... Western american chipmunk"
      ]
     },
     "execution_count": 49,
     "metadata": {},
     "output_type": "execute_result"
    }
   ],
   "source": [
    "tab$name"
   ]
  },
  {
   "cell_type": "code",
   "execution_count": 51,
   "metadata": {
    "collapsed": false
   },
   "outputs": [],
   "source": [
    "idx <- match(c(\"Cow\", \"Owl monkey\", \"Cheetah\"), tab$name)"
   ]
  },
  {
   "cell_type": "code",
   "execution_count": 52,
   "metadata": {
    "collapsed": false
   },
   "outputs": [
    {
     "data": {
      "text/plain": [
       "        name    genus  vore        order conservation sleep_total sleep_rem\n",
       "5        Cow      Bos herbi Artiodactyla domesticated         4.0       0.7\n",
       "2 Owl monkey    Aotus  omni     Primates         <NA>        17.0       1.8\n",
       "1    Cheetah Acinonyx carni    Carnivora           lc        12.1        NA\n",
       "  sleep_cycle awake brainwt bodywt\n",
       "5   0.6666667  20.0  0.4230 600.00\n",
       "2          NA   7.0  0.0155   0.48\n",
       "1          NA  11.9      NA  50.00"
      ]
     },
     "execution_count": 52,
     "metadata": {},
     "output_type": "execute_result"
    }
   ],
   "source": [
    "tab[idx,]"
   ]
  },
  {
   "cell_type": "code",
   "execution_count": 56,
   "metadata": {
    "collapsed": false
   },
   "outputs": [
    {
     "data": {
      "text/plain": [
       "[1] 68"
      ]
     },
     "execution_count": 56,
     "metadata": {},
     "output_type": "execute_result"
    }
   ],
   "source": [
    "which(tab$name == \"Cotton rat\")"
   ]
  },
  {
   "cell_type": "code",
   "execution_count": 57,
   "metadata": {
    "collapsed": false
   },
   "outputs": [
    {
     "data": {
      "text/plain": [
       "[1] 68"
      ]
     },
     "execution_count": 57,
     "metadata": {},
     "output_type": "execute_result"
    }
   ],
   "source": [
    "match(\"Cotton rat\", tab$name)"
   ]
  },
  {
   "cell_type": "markdown",
   "metadata": {},
   "source": [
    "## FACTORS\n",
    "\n",
    "In this assessment, we will cover ways of grouping data in R using factors. \n",
    "\n",
    "Factors in R are a way to turn character vectors with repeating values into a class of object that recognizes the repeated values. What R is doing internally is keeping track of character values using integers, where the integer refers to the unique values, or \"levels\" of the factor. But R shows you the character vector when you print the factor. \n",
    "\n",
    "The levels of a factor and their order can be seen using the levels() function. Let's see an example:\n",
    "\n",
    "- vec = c(\"red\",\"blue\",\"red\",\"green\",\"green\",\"yellow\",\"orange\")\n",
    "- fac = factor(vec)\n",
    "- fac\n",
    "- levels(fac)\n",
    "\n",
    "You would use character vectors to test for a match, for example, with a factor \"vec\", if you wanted to find matches for the level \"blue\", you would write:\n",
    "\n",
    "- vec == \"blue\"\n",
    "\n",
    "The levels are chosen alphabetically, unless we say otherwise:\n",
    "\n",
    "- fac2 = factor(vec, levels=c(\"blue\",\"green\",\"yellow\",\"orange\",\"red\"))\n",
    "- fac2\n",
    "- levels(fac2)"
   ]
  },
  {
   "cell_type": "code",
   "execution_count": 58,
   "metadata": {
    "collapsed": true
   },
   "outputs": [],
   "source": [
    "vec <- c(\"red\", \"blue\", \"red\", \"green\", \"green\", \"yellow\", \"orange\")"
   ]
  },
  {
   "cell_type": "code",
   "execution_count": 60,
   "metadata": {
    "collapsed": false
   },
   "outputs": [
    {
     "data": {
      "text/plain": [
       "[1] \"blue\"   \"green\"  \"orange\" \"red\"    \"yellow\""
      ]
     },
     "execution_count": 60,
     "metadata": {},
     "output_type": "execute_result"
    }
   ],
   "source": [
    "fac <- factor(vec)\n",
    "levels(fac)"
   ]
  },
  {
   "cell_type": "code",
   "execution_count": 61,
   "metadata": {
    "collapsed": false
   },
   "outputs": [
    {
     "data": {
      "text/plain": [
       "[1] FALSE  TRUE FALSE FALSE FALSE FALSE FALSE"
      ]
     },
     "execution_count": 61,
     "metadata": {},
     "output_type": "execute_result"
    }
   ],
   "source": [
    "vec == \"blue\""
   ]
  },
  {
   "cell_type": "code",
   "execution_count": 62,
   "metadata": {
    "collapsed": false
   },
   "outputs": [
    {
     "data": {
      "text/plain": [
       "[1] red    blue   red    green  green  yellow orange\n",
       "Levels: blue green yellow orange red"
      ]
     },
     "execution_count": 62,
     "metadata": {},
     "output_type": "execute_result"
    }
   ],
   "source": [
    "fac2 <- factor(vec, levels = c(\"blue\", \"green\", \"yellow\", \"orange\", \"red\"))\n",
    "fac2"
   ]
  },
  {
   "cell_type": "code",
   "execution_count": 63,
   "metadata": {
    "collapsed": false
   },
   "outputs": [
    {
     "data": {
      "text/plain": [
       "[1] red    blue   red    green  green  yellow orange\n",
       "Levels: blue green orange red yellow"
      ]
     },
     "execution_count": 63,
     "metadata": {},
     "output_type": "execute_result"
    }
   ],
   "source": [
    "fac"
   ]
  },
  {
   "cell_type": "code",
   "execution_count": 64,
   "metadata": {
    "collapsed": false
   },
   "outputs": [
    {
     "data": {
      "text/plain": [
       "[1] \"blue\"   \"green\"  \"yellow\" \"orange\" \"red\"   "
      ]
     },
     "execution_count": 64,
     "metadata": {},
     "output_type": "execute_result"
    }
   ],
   "source": [
    "levels(fac2)"
   ]
  },
  {
   "cell_type": "markdown",
   "metadata": {},
   "source": [
    "## TABLE()  (1/1 point)\n",
    "\n",
    "Some of the columns of our mammal sleep data are factors, and we can use functions like table() on these columns, in order to count the number of repetitions.\n",
    "\n",
    "#### How many rodents (Rodentia) are in the table?"
   ]
  },
  {
   "cell_type": "code",
   "execution_count": 78,
   "metadata": {
    "collapsed": false
   },
   "outputs": [
    {
     "data": {
      "text/plain": [
       "\n",
       "   Afrosoricida    Artiodactyla       Carnivora         Cetacea      Chiroptera \n",
       "              1               6              12               3               2 \n",
       "      Cingulata Didelphimorphia   Diprotodontia  Erinaceomorpha      Hyracoidea \n",
       "              2               2               2               2               3 \n",
       "     Lagomorpha     Monotremata  Perissodactyla          Pilosa        Primates \n",
       "              1               1               3               1              12 \n",
       "    Proboscidea        Rodentia      Scandentia    Soricomorpha \n",
       "              2              22               1               5 "
      ]
     },
     "execution_count": 78,
     "metadata": {},
     "output_type": "execute_result"
    }
   ],
   "source": [
    "table(tab$order)"
   ]
  },
  {
   "cell_type": "code",
   "execution_count": 79,
   "metadata": {
    "collapsed": false
   },
   "outputs": [
    {
     "data": {
      "text/plain": [
       " [1] Carnivora       Primates        Rodentia        Soricomorpha   \n",
       " [5] Artiodactyla    Pilosa          Carnivora       Rodentia       \n",
       " [9] Carnivora       Artiodactyla    Artiodactyla    Rodentia       \n",
       "[13] Primates        Rodentia        Soricomorpha    Rodentia       \n",
       "[17] Soricomorpha    Cingulata       Hyracoidea      Didelphimorphia\n",
       "[21] Proboscidea     Chiroptera      Perissodactyla  Perissodactyla \n",
       "[25] Erinaceomorpha  Primates        Rodentia        Carnivora      \n",
       "[29] Primates        Artiodactyla    Cetacea         Carnivora      \n",
       "[33] Hyracoidea      Primates        Primates        Proboscidea    \n",
       "[37] Didelphimorphia Primates        Rodentia        Rodentia       \n",
       "[41] Rodentia        Rodentia        Chiroptera      Rodentia       \n",
       "[45] Primates        Rodentia        Rodentia        Lagomorpha     \n",
       "[49] Artiodactyla    Primates        Carnivora       Carnivora      \n",
       "[53] Carnivora       Primates        Erinaceomorpha  Primates       \n",
       "[57] Rodentia        Diprotodontia   Carnivora       Cetacea        \n",
       "[61] Diprotodontia   Cingulata       Hyracoidea      Rodentia       \n",
       "[65] Rodentia        Primates        Soricomorpha    Rodentia       \n",
       "[69] Rodentia        Rodentia        Rodentia        Rodentia       \n",
       "[73] Soricomorpha    Artiodactyla    Monotremata     Rodentia       \n",
       "[77] Perissodactyla  Afrosoricida    Scandentia      Cetacea        \n",
       "[81] Carnivora       Carnivora       Carnivora      \n",
       "19 Levels: Afrosoricida Artiodactyla Carnivora Cetacea Chiroptera ... Soricomorpha"
      ]
     },
     "execution_count": 79,
     "metadata": {},
     "output_type": "execute_result"
    }
   ],
   "source": [
    "tab$order"
   ]
  },
  {
   "cell_type": "markdown",
   "metadata": {},
   "source": [
    "## split() \n",
    "\n",
    "is a function which takes a vector and splits it into a list, by grouping the vector according to a factor. Let's use our mammal sleep data again to try this out. Split the total sleep column by the mammals Order (here Order means the biological taxonomy, above Family and below Class)\n",
    "\n",
    "- s = split(tab$sleep_total, tab$order)\n",
    "- s\n",
    "\n",
    "We can pull out a single vector from the list using the name of the Order or the number that it occurs in the list (note: this is where the level occurs in the levels of the factor).\n",
    "\n",
    "Lists are indexed with double square brackets [[]], instead of a single square bracket []:\n",
    "\n",
    "- s[[17]]\n",
    "- s[[\"Rodentia\"]]\n",
    "\n",
    "#### What is the mean hours of total sleep of the rodents?"
   ]
  },
  {
   "cell_type": "code",
   "execution_count": 82,
   "metadata": {
    "collapsed": false
   },
   "outputs": [],
   "source": [
    "s <- split(tab$sleep_total, tab$order)"
   ]
  },
  {
   "cell_type": "code",
   "execution_count": 83,
   "metadata": {
    "collapsed": false
   },
   "outputs": [
    {
     "data": {
      "text/plain": [
       " [1] 14.4  7.0  9.4 12.5  8.3 14.9 14.2 14.3 12.8 12.5 14.6  7.7 14.5 11.5 13.0\n",
       "[16]  8.7 11.3 10.6 16.6 13.8 15.9 15.8"
      ]
     },
     "execution_count": 83,
     "metadata": {},
     "output_type": "execute_result"
    }
   ],
   "source": [
    "s[[17]]"
   ]
  },
  {
   "cell_type": "code",
   "execution_count": 84,
   "metadata": {
    "collapsed": false
   },
   "outputs": [
    {
     "data": {
      "text/plain": [
       " [1] 14.4  7.0  9.4 12.5  8.3 14.9 14.2 14.3 12.8 12.5 14.6  7.7 14.5 11.5 13.0\n",
       "[16]  8.7 11.3 10.6 16.6 13.8 15.9 15.8"
      ]
     },
     "execution_count": 84,
     "metadata": {},
     "output_type": "execute_result"
    }
   ],
   "source": [
    "s[[\"Rodentia\"]]"
   ]
  },
  {
   "cell_type": "code",
   "execution_count": 86,
   "metadata": {
    "collapsed": false
   },
   "outputs": [
    {
     "data": {
      "text/plain": [
       "$Rodentia\n",
       " [1] 14.4  7.0  9.4 12.5  8.3 14.9 14.2 14.3 12.8 12.5 14.6  7.7 14.5 11.5 13.0\n",
       "[16]  8.7 11.3 10.6 16.6 13.8 15.9 15.8\n"
      ]
     },
     "execution_count": 86,
     "metadata": {},
     "output_type": "execute_result"
    }
   ],
   "source": [
    "s[17]"
   ]
  },
  {
   "cell_type": "code",
   "execution_count": 87,
   "metadata": {
    "collapsed": false
   },
   "outputs": [
    {
     "data": {
      "text/plain": [
       "$Rodentia\n",
       " [1] 14.4  7.0  9.4 12.5  8.3 14.9 14.2 14.3 12.8 12.5 14.6  7.7 14.5 11.5 13.0\n",
       "[16]  8.7 11.3 10.6 16.6 13.8 15.9 15.8\n"
      ]
     },
     "execution_count": 87,
     "metadata": {},
     "output_type": "execute_result"
    }
   ],
   "source": [
    "s[\"Rodentia\"]"
   ]
  },
  {
   "cell_type": "code",
   "execution_count": 93,
   "metadata": {
    "collapsed": false
   },
   "outputs": [
    {
     "data": {
      "text/plain": [
       "$Rodentia\n",
       " [1] 14.4  7.0  9.4 12.5  8.3 14.9 14.2 14.3 12.8 12.5 14.6  7.7 14.5 11.5 13.0\n",
       "[16]  8.7 11.3 10.6 16.6 13.8 15.9 15.8\n"
      ]
     },
     "execution_count": 93,
     "metadata": {},
     "output_type": "execute_result"
    }
   ],
   "source": [
    "s[17][1]"
   ]
  },
  {
   "cell_type": "code",
   "execution_count": 89,
   "metadata": {
    "collapsed": false
   },
   "outputs": [
    {
     "data": {
      "text/plain": [
       "$<NA>\n",
       "NULL\n"
      ]
     },
     "execution_count": 89,
     "metadata": {},
     "output_type": "execute_result"
    }
   ],
   "source": [
    "s[17][2]"
   ]
  },
  {
   "cell_type": "code",
   "execution_count": 94,
   "metadata": {
    "collapsed": false
   },
   "outputs": [
    {
     "data": {
      "text/plain": [
       "[1] 12.46818"
      ]
     },
     "execution_count": 94,
     "metadata": {},
     "output_type": "execute_result"
    }
   ],
   "source": [
    "mean(s[[\"Rodentia\"]])"
   ]
  },
  {
   "cell_type": "markdown",
   "metadata": {},
   "source": [
    "## apply()\n",
    "\n",
    "lapply() and sapply() are useful functions for applying a function repeatedly to a vector or list. lapply() returns a list, while sapply() tries to \"simplify\", returning a vector if possible (if there is only one element returned by the function for each element of the input. Let's use lapply() to get the average total sleep for each Order:\n",
    "\n",
    "lapply(s, mean)\n",
    "\n",
    "As you can see, a list is returned. Let's use sapply() instead:\n",
    "\n",
    "sapply(s, mean)\n",
    "\n",
    "A shortcut for using split() and sapply() is to straightaway use tapply(), providing these 3 arguments: the vector of values, a factor to group by, and the function to apply:\n",
    "\n",
    "tapply(tab$sleep_total, tab$order, mean)"
   ]
  },
  {
   "cell_type": "markdown",
   "metadata": {},
   "source": [
    "## LAPPLY(),SAPPLY(),TAPPLY() QUESTION  (1/1 point)\n",
    "\n",
    "Use any one of lapply(), sapply(), or tapply() to answer the following question:\n",
    "\n",
    "#### What is the standard deviation of total hours of sleep for the Primates Order? (The standard deviation function is sd() in R.)"
   ]
  },
  {
   "cell_type": "code",
   "execution_count": 95,
   "metadata": {
    "collapsed": false
   },
   "outputs": [
    {
     "data": {
      "text/plain": [
       "[1] 4.450357"
      ]
     },
     "execution_count": 95,
     "metadata": {},
     "output_type": "execute_result"
    }
   ],
   "source": [
    "sd(tab$sleep_total)"
   ]
  },
  {
   "cell_type": "code",
   "execution_count": 98,
   "metadata": {
    "collapsed": false
   },
   "outputs": [
    {
     "data": {
      "text/plain": [
       "   Afrosoricida    Artiodactyla       Carnivora         Cetacea      Chiroptera \n",
       "             NA       2.5119050       3.5021638       1.5716234       0.1414214 \n",
       "      Cingulata Didelphimorphia   Diprotodontia  Erinaceomorpha      Hyracoidea \n",
       "      0.4949747       0.9899495       1.8384776       0.1414214       0.5507571 \n",
       "     Lagomorpha     Monotremata  Perissodactyla          Pilosa        Primates \n",
       "             NA              NA       0.8144528              NA       2.2098951 \n",
       "    Proboscidea        Rodentia      Scandentia    Soricomorpha \n",
       "      0.4242641       2.8132994              NA       2.7046257 "
      ]
     },
     "execution_count": 98,
     "metadata": {},
     "output_type": "execute_result"
    }
   ],
   "source": [
    "tapply(tab$sleep_total, tab$order, sd)"
   ]
  },
  {
   "cell_type": "code",
   "execution_count": 99,
   "metadata": {
    "collapsed": true
   },
   "outputs": [],
   "source": [
    "s <- split(tab$sleep_total, tab$order)"
   ]
  },
  {
   "cell_type": "code",
   "execution_count": 100,
   "metadata": {
    "collapsed": false
   },
   "outputs": [
    {
     "data": {
      "text/plain": [
       "$Afrosoricida\n",
       "[1] NA\n",
       "\n",
       "$Artiodactyla\n",
       "[1] 2.511905\n",
       "\n",
       "$Carnivora\n",
       "[1] 3.502164\n",
       "\n",
       "$Cetacea\n",
       "[1] 1.571623\n",
       "\n",
       "$Chiroptera\n",
       "[1] 0.1414214\n",
       "\n",
       "$Cingulata\n",
       "[1] 0.4949747\n",
       "\n",
       "$Didelphimorphia\n",
       "[1] 0.9899495\n",
       "\n",
       "$Diprotodontia\n",
       "[1] 1.838478\n",
       "\n",
       "$Erinaceomorpha\n",
       "[1] 0.1414214\n",
       "\n",
       "$Hyracoidea\n",
       "[1] 0.5507571\n",
       "\n",
       "$Lagomorpha\n",
       "[1] NA\n",
       "\n",
       "$Monotremata\n",
       "[1] NA\n",
       "\n",
       "$Perissodactyla\n",
       "[1] 0.8144528\n",
       "\n",
       "$Pilosa\n",
       "[1] NA\n",
       "\n",
       "$Primates\n",
       "[1] 2.209895\n",
       "\n",
       "$Proboscidea\n",
       "[1] 0.4242641\n",
       "\n",
       "$Rodentia\n",
       "[1] 2.813299\n",
       "\n",
       "$Scandentia\n",
       "[1] NA\n",
       "\n",
       "$Soricomorpha\n",
       "[1] 2.704626\n"
      ]
     },
     "execution_count": 100,
     "metadata": {},
     "output_type": "execute_result"
    }
   ],
   "source": [
    "lapply(s, sd)"
   ]
  },
  {
   "cell_type": "code",
   "execution_count": 102,
   "metadata": {
    "collapsed": false
   },
   "outputs": [],
   "source": [
    "b <- sapply(s, sd)"
   ]
  },
  {
   "cell_type": "code",
   "execution_count": 104,
   "metadata": {
    "collapsed": false
   },
   "outputs": [
    {
     "data": {
      "text/plain": [
       "Afrosoricida Artiodactyla    Carnivora      Cetacea   Chiroptera    Cingulata \n",
       "          NA    2.5119050    3.5021638    1.5716234    0.1414214    0.4949747 "
      ]
     },
     "execution_count": 104,
     "metadata": {},
     "output_type": "execute_result"
    }
   ],
   "source": [
    "head(b)"
   ]
  },
  {
   "cell_type": "code",
   "execution_count": null,
   "metadata": {
    "collapsed": true
   },
   "outputs": [],
   "source": []
  }
 ],
 "metadata": {
  "kernelspec": {
   "display_name": "R",
   "language": "",
   "name": "ir"
  },
  "language_info": {
   "codemirror_mode": "r",
   "file_extension": ".r",
   "mimetype": "text/x-r-source",
   "name": "R",
   "pygments_lexer": "r",
   "version": "3.1.3"
  }
 },
 "nbformat": 4,
 "nbformat_minor": 0
}
